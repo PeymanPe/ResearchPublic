{
 "cells": [
  {
   "cell_type": "markdown",
   "metadata": {},
   "source": [
    "This notebook reads in the number of Covid-19 infected persons in Austria as indicated in the Wikipedia page for that country related to the 2020 coronavirus pandemic. \n",
    "\n",
    "https://en.wikipedia.org/wiki/2020_coronavirus_pandemic_in_Austria\n",
    "\n",
    "The data is fetched from the wikidata knowledge base (https://www.wikidata.org/wiki/Wikidata:Main_Page). To fetch the data underlying the page \n",
    "https://en.wikipedia.org/wiki/2020_coronavirus_pandemic_in_Austria \n",
    "we use the item code for that page: Q86847911. \n",
    "You can change the country by replacing that item code below with the corresponding item code for the country page. \n",
    "The wikidata item code of a page can be found by clicking \"Wikidata item\" under Tools on the left side of the wikipedia page. "
   ]
  },
  {
   "cell_type": "code",
   "execution_count": 76,
   "metadata": {},
   "outputs": [],
   "source": [
    "import requests\n",
    "import pandas as pd\n",
    "from collections import OrderedDict\n",
    "import matplotlib.pyplot as plt\n",
    "\n",
    "# read in cases from wikidata entry Q86847911 (\"2020 coronavirus outbreak in Austria\")"
   ]
  },
  {
   "cell_type": "code",
   "execution_count": 77,
   "metadata": {},
   "outputs": [
    {
     "name": "stdout",
     "output_type": "stream",
     "text": [
      "['2020-03-10T00:00:00Z' '2020-02-28T00:00:00Z' '2020-02-26T00:00:00Z'\n",
      " '2020-02-27T00:00:00Z' '2020-03-01T00:00:00Z' '2020-03-02T00:00:00Z'\n",
      " '2020-03-09T00:00:00Z' '2020-03-16T00:00:00Z' '2020-03-08T00:00:00Z'\n",
      " '2020-03-04T00:00:00Z' '2020-03-03T00:00:00Z' '2020-03-12T00:00:00Z'\n",
      " '2020-02-29T00:00:00Z' '2020-03-11T00:00:00Z' '2020-03-13T00:00:00Z'\n",
      " '2020-03-06T00:00:00Z' '2020-03-15T00:00:00Z' '2020-03-14T00:00:00Z'\n",
      " '2020-03-07T00:00:00Z' '2020-03-05T00:00:00Z' '2020-03-17T00:00:00Z'\n",
      " '2020-03-18T00:00:00Z' '2020-03-19T00:00:00Z']\n"
     ]
    }
   ],
   "source": [
    "url = 'https://query.wikidata.org/sparql'\n",
    "query = \"\"\"\n",
    "SELECT\n",
    "  ?nrcases ?timepoint\n",
    "WHERE {\n",
    "  wd:Q86847911 p:P1603 ?p .\n",
    "  ?p pq:P585 ?timepoint ;\n",
    "     ps:P1603 ?nrcases .\n",
    "  SERVICE wikibase:label { bd:serviceParam wikibase:language \"en\". }\n",
    "}\n",
    "\"\"\"\n",
    "\n",
    "r = requests.get(url, params={'format': 'json', 'query': query}) #execute the query\n",
    "data = r.json()\n",
    "\n",
    "cases = []\n",
    "#cleans the data because some values are missing\n",
    "for item in data['results']['bindings']:\n",
    "    cases.append(OrderedDict({'time': item['timepoint']['value'],\n",
    "'nrcases': item['nrcases']['value']\n",
    "}))\n",
    "    \n",
    "df_wikidata=pd.DataFrame(cases)\n",
    "print(df_wikidata['time'].values)"
   ]
  },
  {
   "cell_type": "code",
   "execution_count": 78,
   "metadata": {},
   "outputs": [],
   "source": [
    "import datetime\n",
    "\n",
    "dates = df_wikidata['time'].values\n",
    "cases = df_wikidata['nrcases'].values\n",
    "\n",
    "for ind in list(range(len(cases))): \n",
    "    cases[ind] = int(cases[ind])\n",
    "    dates[ind] = datetime.datetime.strptime(dates[ind],\"%Y-%m-%dT%H:%M:%SZ\")\n",
    "\n",
    "#for time_cases in df_wikidata.values:\n",
    "#    time = time_cases[0]\n",
    "#    nrcases.append(time_cases[1])\n",
    "#    print(time)"
   ]
  },
  {
   "cell_type": "code",
   "execution_count": 79,
   "metadata": {},
   "outputs": [],
   "source": [
    "ts = pd.Series(cases,dates)"
   ]
  },
  {
   "cell_type": "code",
   "execution_count": 82,
   "metadata": {},
   "outputs": [
    {
     "data": {
      "text/plain": [
       "<matplotlib.axes._subplots.AxesSubplot at 0x121e99b50>"
      ]
     },
     "execution_count": 82,
     "metadata": {},
     "output_type": "execute_result"
    },
    {
     "data": {
      "image/png": "[encoded data removed]",
      "text/plain": [
       "<Figure size 432x288 with 1 Axes>"
      ]
     },
     "metadata": {
      "needs_background": "light"
     },
     "output_type": "display_data"
    }
   ],
   "source": [
    "ts.plot(title=\"reported number of Covid-infections\")"
   ]
  },
  {
   "cell_type": "code",
   "execution_count": null,
   "metadata": {},
   "outputs": [],
   "source": []
  }
 ],
 "metadata": {
  "kernelspec": {
   "display_name": "Python 3",
   "language": "python",
   "name": "python3"
  },
  "language_info": {
   "codemirror_mode": {
    "name": "ipython",
    "version": 3
   },
   "file_extension": ".py",
   "mimetype": "text/x-python",
   "name": "python",
   "nbconvert_exporter": "python",
   "pygments_lexer": "ipython3",
   "version": "3.7.4"
  }
 },
 "nbformat": 4,
 "nbformat_minor": 2
}
